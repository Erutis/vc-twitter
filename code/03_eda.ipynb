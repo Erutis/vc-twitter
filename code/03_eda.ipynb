{
 "cells": [
  {
   "cell_type": "markdown",
   "id": "b1d6aece-4455-4e7c-bfad-2f80d2810d72",
   "metadata": {},
   "source": [
    "# 03. EDA \n",
    "\n",
    "This notebook will use a count vectorizer to check the most common words in single, double, and triple pairs. It excludes words that were only used once. This is only for curiosity and doesn't have any real bearing on the project. "
   ]
  },
  {
   "cell_type": "code",
   "execution_count": 19,
   "id": "ff2f3623-25a5-4567-a04a-0173913be32d",
   "metadata": {},
   "outputs": [],
   "source": [
    "import pandas as pd\n",
    "import numpy as np\n",
    "\n",
    "import matplotlib.pyplot as plt\n",
    "import seaborn as sns\n",
    "\n",
    "from sklearn.feature_extraction.text import CountVectorizer, TfidfVectorizer\n"
   ]
  },
  {
   "cell_type": "code",
   "execution_count": 20,
   "id": "0f4ffcf1-e4e2-4ebf-b653-2322a6d1a8a8",
   "metadata": {},
   "outputs": [
    {
     "data": {
      "text/html": [
       "<div>\n",
       "<style scoped>\n",
       "    .dataframe tbody tr th:only-of-type {\n",
       "        vertical-align: middle;\n",
       "    }\n",
       "\n",
       "    .dataframe tbody tr th {\n",
       "        vertical-align: top;\n",
       "    }\n",
       "\n",
       "    .dataframe thead th {\n",
       "        text-align: right;\n",
       "    }\n",
       "</style>\n",
       "<table border=\"1\" class=\"dataframe\">\n",
       "  <thead>\n",
       "    <tr style=\"text-align: right;\">\n",
       "      <th></th>\n",
       "      <th>no_rts</th>\n",
       "      <th>retweet</th>\n",
       "    </tr>\n",
       "  </thead>\n",
       "  <tbody>\n",
       "    <tr>\n",
       "      <th>0</th>\n",
       "      <td>that would be sign of an inexperienced inves...</td>\n",
       "      <td>0</td>\n",
       "    </tr>\n",
       "    <tr>\n",
       "      <th>1</th>\n",
       "      <td>although the market reset is healthy and good ...</td>\n",
       "      <td>0</td>\n",
       "    </tr>\n",
       "    <tr>\n",
       "      <th>2</th>\n",
       "      <td>i'd love to see what % of seed-stage investors...</td>\n",
       "      <td>0</td>\n",
       "    </tr>\n",
       "    <tr>\n",
       "      <th>3</th>\n",
       "      <td>when thinking about valuations, anchoring on 2...</td>\n",
       "      <td>0</td>\n",
       "    </tr>\n",
       "    <tr>\n",
       "      <th>4</th>\n",
       "      <td>why there are still like 23,000 different form...</td>\n",
       "      <td>0</td>\n",
       "    </tr>\n",
       "  </tbody>\n",
       "</table>\n",
       "</div>"
      ],
      "text/plain": [
       "                                              no_rts  retweet\n",
       "0    that would be sign of an inexperienced inves...        0\n",
       "1  although the market reset is healthy and good ...        0\n",
       "2  i'd love to see what % of seed-stage investors...        0\n",
       "3  when thinking about valuations, anchoring on 2...        0\n",
       "4  why there are still like 23,000 different form...        0"
      ]
     },
     "execution_count": 20,
     "metadata": {},
     "output_type": "execute_result"
    }
   ],
   "source": [
    "df = pd.read_csv('./data/3000_tweets.csv')\n",
    "df.head()"
   ]
  },
  {
   "cell_type": "code",
   "execution_count": 21,
   "id": "44f2fff7-8b03-4bcc-8414-ca7fefc40ff4",
   "metadata": {},
   "outputs": [
    {
     "data": {
      "text/plain": [
       "(35999, 2)"
      ]
     },
     "execution_count": 21,
     "metadata": {},
     "output_type": "execute_result"
    }
   ],
   "source": [
    "df.shape"
   ]
  },
  {
   "cell_type": "code",
   "execution_count": 22,
   "id": "0b73acc6-ac46-4186-a9b2-49192ecf366a",
   "metadata": {},
   "outputs": [
    {
     "data": {
      "text/plain": [
       "no_rts     273\n",
       "retweet      0\n",
       "dtype: int64"
      ]
     },
     "execution_count": 22,
     "metadata": {},
     "output_type": "execute_result"
    }
   ],
   "source": [
    "df.isnull().sum()"
   ]
  },
  {
   "cell_type": "markdown",
   "id": "40852c90-b6fb-45ea-aa4f-57af5f7945b1",
   "metadata": {},
   "source": [
    "The rows that are null are likely tweets that were just tagging someone and/or tweeting a URL, which were both removed in the last notebook. It's an insignificant number."
   ]
  },
  {
   "cell_type": "code",
   "execution_count": 23,
   "id": "c0c9f373-ea6b-475e-b74f-d0ba8ba6bc08",
   "metadata": {},
   "outputs": [],
   "source": [
    "df.dropna(axis=0, inplace=True)"
   ]
  },
  {
   "cell_type": "code",
   "execution_count": 24,
   "id": "ac1a9cb5-70e6-4845-b12f-9d2c84c9c783",
   "metadata": {},
   "outputs": [
    {
     "data": {
      "text/plain": [
       "no_rts     0\n",
       "retweet    0\n",
       "dtype: int64"
      ]
     },
     "execution_count": 24,
     "metadata": {},
     "output_type": "execute_result"
    }
   ],
   "source": [
    "df.isnull().sum()"
   ]
  },
  {
   "cell_type": "code",
   "execution_count": 25,
   "id": "b11421b1-6088-4d67-9548-e8470c91944e",
   "metadata": {},
   "outputs": [],
   "source": [
    "df['no_rts'] = df['no_rts'].str.lower()"
   ]
  },
  {
   "cell_type": "code",
   "execution_count": 26,
   "id": "391be4ff-6a52-407e-a519-42cc9635edf8",
   "metadata": {},
   "outputs": [],
   "source": [
    "text = df['no_rts']"
   ]
  },
  {
   "cell_type": "code",
   "execution_count": 27,
   "id": "f48f7ac7-ce74-4dc1-97bf-d423e8491da1",
   "metadata": {},
   "outputs": [
    {
     "data": {
      "text/plain": [
       "0          that would be sign of an inexperienced inves...\n",
       "1        although the market reset is healthy and good ...\n",
       "2        i'd love to see what % of seed-stage investors...\n",
       "3        when thinking about valuations, anchoring on 2...\n",
       "4        why there are still like 23,000 different form...\n",
       "                               ...                        \n",
       "35994      gerald, we need to chat about rarebreed fund ii\n",
       "35995    don’t think  needs any amplifying but i’ve inv...\n",
       "35996     the quick version is we do 40-50 first checks...\n",
       "35997    a good thread for emerging managers in my netw...\n",
       "35998    the wealth of knowledge that is consistently s...\n",
       "Name: no_rts, Length: 35726, dtype: object"
      ]
     },
     "execution_count": 27,
     "metadata": {},
     "output_type": "execute_result"
    }
   ],
   "source": [
    "text"
   ]
  },
  {
   "cell_type": "code",
   "execution_count": 28,
   "id": "4a240136-c907-440b-8d8d-56457a1043bf",
   "metadata": {},
   "outputs": [],
   "source": [
    "# save text without quotes\n",
    "#text_no = np.savetxt('./data/file.txt', text.values, fmt = \"%s\")"
   ]
  },
  {
   "cell_type": "code",
   "execution_count": 29,
   "id": "f7a4fcf8-1c1a-462d-8e2e-5c2d146f3eeb",
   "metadata": {},
   "outputs": [
    {
     "data": {
      "text/plain": [
       "0    0.770363\n",
       "1    0.229637\n",
       "Name: retweet, dtype: float64"
      ]
     },
     "execution_count": 29,
     "metadata": {},
     "output_type": "execute_result"
    }
   ],
   "source": [
    "df['retweet'].value_counts(normalize=True)"
   ]
  },
  {
   "cell_type": "markdown",
   "id": "6040c7f1-0109-45d7-9160-3cebc16e1f02",
   "metadata": {},
   "source": [
    "The sample of ~36,000 tweets is split about 77/23 into original tweets and retweets. "
   ]
  },
  {
   "cell_type": "markdown",
   "id": "166cfd30-d0bc-4867-9aec-368ef9b469a0",
   "metadata": {},
   "source": [
    "### Count Vectorizer Strategy 1\n",
    "\n",
    "-----\n",
    "\n",
    "This first run will look at the top 20 most used single words across the tweets. "
   ]
  },
  {
   "cell_type": "code",
   "execution_count": 59,
   "id": "c6401957-3258-47c8-b017-2ac153d657d9",
   "metadata": {
    "tags": []
   },
   "outputs": [
    {
     "data": {
      "text/html": [
       "<style>#sk-container-id-7 {color: black;background-color: white;}#sk-container-id-7 pre{padding: 0;}#sk-container-id-7 div.sk-toggleable {background-color: white;}#sk-container-id-7 label.sk-toggleable__label {cursor: pointer;display: block;width: 100%;margin-bottom: 0;padding: 0.3em;box-sizing: border-box;text-align: center;}#sk-container-id-7 label.sk-toggleable__label-arrow:before {content: \"▸\";float: left;margin-right: 0.25em;color: #696969;}#sk-container-id-7 label.sk-toggleable__label-arrow:hover:before {color: black;}#sk-container-id-7 div.sk-estimator:hover label.sk-toggleable__label-arrow:before {color: black;}#sk-container-id-7 div.sk-toggleable__content {max-height: 0;max-width: 0;overflow: hidden;text-align: left;background-color: #f0f8ff;}#sk-container-id-7 div.sk-toggleable__content pre {margin: 0.2em;color: black;border-radius: 0.25em;background-color: #f0f8ff;}#sk-container-id-7 input.sk-toggleable__control:checked~div.sk-toggleable__content {max-height: 200px;max-width: 100%;overflow: auto;}#sk-container-id-7 input.sk-toggleable__control:checked~label.sk-toggleable__label-arrow:before {content: \"▾\";}#sk-container-id-7 div.sk-estimator input.sk-toggleable__control:checked~label.sk-toggleable__label {background-color: #d4ebff;}#sk-container-id-7 div.sk-label input.sk-toggleable__control:checked~label.sk-toggleable__label {background-color: #d4ebff;}#sk-container-id-7 input.sk-hidden--visually {border: 0;clip: rect(1px 1px 1px 1px);clip: rect(1px, 1px, 1px, 1px);height: 1px;margin: -1px;overflow: hidden;padding: 0;position: absolute;width: 1px;}#sk-container-id-7 div.sk-estimator {font-family: monospace;background-color: #f0f8ff;border: 1px dotted black;border-radius: 0.25em;box-sizing: border-box;margin-bottom: 0.5em;}#sk-container-id-7 div.sk-estimator:hover {background-color: #d4ebff;}#sk-container-id-7 div.sk-parallel-item::after {content: \"\";width: 100%;border-bottom: 1px solid gray;flex-grow: 1;}#sk-container-id-7 div.sk-label:hover label.sk-toggleable__label {background-color: #d4ebff;}#sk-container-id-7 div.sk-serial::before {content: \"\";position: absolute;border-left: 1px solid gray;box-sizing: border-box;top: 0;bottom: 0;left: 50%;z-index: 0;}#sk-container-id-7 div.sk-serial {display: flex;flex-direction: column;align-items: center;background-color: white;padding-right: 0.2em;padding-left: 0.2em;position: relative;}#sk-container-id-7 div.sk-item {position: relative;z-index: 1;}#sk-container-id-7 div.sk-parallel {display: flex;align-items: stretch;justify-content: center;background-color: white;position: relative;}#sk-container-id-7 div.sk-item::before, #sk-container-id-7 div.sk-parallel-item::before {content: \"\";position: absolute;border-left: 1px solid gray;box-sizing: border-box;top: 0;bottom: 0;left: 50%;z-index: -1;}#sk-container-id-7 div.sk-parallel-item {display: flex;flex-direction: column;z-index: 1;position: relative;background-color: white;}#sk-container-id-7 div.sk-parallel-item:first-child::after {align-self: flex-end;width: 50%;}#sk-container-id-7 div.sk-parallel-item:last-child::after {align-self: flex-start;width: 50%;}#sk-container-id-7 div.sk-parallel-item:only-child::after {width: 0;}#sk-container-id-7 div.sk-dashed-wrapped {border: 1px dashed gray;margin: 0 0.4em 0.5em 0.4em;box-sizing: border-box;padding-bottom: 0.4em;background-color: white;}#sk-container-id-7 div.sk-label label {font-family: monospace;font-weight: bold;display: inline-block;line-height: 1.2em;}#sk-container-id-7 div.sk-label-container {text-align: center;}#sk-container-id-7 div.sk-container {/* jupyter's `normalize.less` sets `[hidden] { display: none; }` but bootstrap.min.css set `[hidden] { display: none !important; }` so we also need the `!important` here to be able to override the default hidden behavior on the sphinx rendered scikit-learn.org. See: https://github.com/scikit-learn/scikit-learn/issues/21755 */display: inline-block !important;position: relative;}#sk-container-id-7 div.sk-text-repr-fallback {display: none;}</style><div id=\"sk-container-id-7\" class=\"sk-top-container\"><div class=\"sk-text-repr-fallback\"><pre>CountVectorizer(min_df=2, stop_words=&#x27;english&#x27;, strip_accents=&#x27;ascii&#x27;)</pre><b>In a Jupyter environment, please rerun this cell to show the HTML representation or trust the notebook. <br />On GitHub, the HTML representation is unable to render, please try loading this page with nbviewer.org.</b></div><div class=\"sk-container\" hidden><div class=\"sk-item\"><div class=\"sk-estimator sk-toggleable\"><input class=\"sk-toggleable__control sk-hidden--visually\" id=\"sk-estimator-id-7\" type=\"checkbox\" checked><label for=\"sk-estimator-id-7\" class=\"sk-toggleable__label sk-toggleable__label-arrow\">CountVectorizer</label><div class=\"sk-toggleable__content\"><pre>CountVectorizer(min_df=2, stop_words=&#x27;english&#x27;, strip_accents=&#x27;ascii&#x27;)</pre></div></div></div></div></div>"
      ],
      "text/plain": [
       "CountVectorizer(min_df=2, stop_words='english', strip_accents='ascii')"
      ]
     },
     "execution_count": 59,
     "metadata": {},
     "output_type": "execute_result"
    }
   ],
   "source": [
    "cv = CountVectorizer(stop_words='english', strip_accents='ascii', min_df=2)\n",
    "cv.fit(text)"
   ]
  },
  {
   "cell_type": "code",
   "execution_count": 60,
   "id": "aae5f3b6-6b3e-4261-ae4f-ec6b66404c0f",
   "metadata": {},
   "outputs": [],
   "source": [
    "text_cv = cv.transform(text)\n",
    "text_df = pd.DataFrame(text_cv.A, columns=cv.get_feature_names_out())"
   ]
  },
  {
   "cell_type": "code",
   "execution_count": 61,
   "id": "40dc616e-e0c5-4b30-a530-1c76396edf80",
   "metadata": {},
   "outputs": [
    {
     "data": {
      "text/plain": [
       "(35726, 16425)"
      ]
     },
     "execution_count": 61,
     "metadata": {},
     "output_type": "execute_result"
    }
   ],
   "source": [
    "text_df.shape"
   ]
  },
  {
   "cell_type": "code",
   "execution_count": 63,
   "id": "32e3f7e6-1b27-459c-9081-eb85552ed1c0",
   "metadata": {},
   "outputs": [
    {
     "data": {
      "text/plain": [
       "people    2258\n",
       "just      2010\n",
       "like      1927\n",
       "new       1726\n",
       "vc        1620\n",
       "amp       1551\n",
       "time      1492\n",
       "great     1463\n",
       "think     1244\n",
       "good      1175\n",
       "fund      1166\n",
       "know      1124\n",
       "work      1063\n",
       "today      992\n",
       "need       980\n",
       "make       949\n",
       "dont       897\n",
       "way        896\n",
       "want       870\n",
       "don        864\n",
       "dtype: int64"
      ]
     },
     "execution_count": 63,
     "metadata": {},
     "output_type": "execute_result"
    }
   ],
   "source": [
    "text_df.sum().sort_values(ascending=False).head(20)"
   ]
  },
  {
   "cell_type": "markdown",
   "id": "f6852b0b-b8bb-4837-81ca-223f9663f0b4",
   "metadata": {
    "tags": []
   },
   "source": [
    "### Count Vectorizer Strategy 2\n",
    "\n",
    "-----\n",
    "\n",
    "This run will look at triple-word combinations, leaving out combinations that only occurred once. This is to save on memory. Not including `min_df=2` may cause the kernel to die, as there would be about 250,000 columns without that parameter."
   ]
  },
  {
   "cell_type": "code",
   "execution_count": 55,
   "id": "b7dc1670-7864-485c-8e43-26f50abd88d5",
   "metadata": {
    "tags": []
   },
   "outputs": [
    {
     "data": {
      "text/html": [
       "<style>#sk-container-id-6 {color: black;background-color: white;}#sk-container-id-6 pre{padding: 0;}#sk-container-id-6 div.sk-toggleable {background-color: white;}#sk-container-id-6 label.sk-toggleable__label {cursor: pointer;display: block;width: 100%;margin-bottom: 0;padding: 0.3em;box-sizing: border-box;text-align: center;}#sk-container-id-6 label.sk-toggleable__label-arrow:before {content: \"▸\";float: left;margin-right: 0.25em;color: #696969;}#sk-container-id-6 label.sk-toggleable__label-arrow:hover:before {color: black;}#sk-container-id-6 div.sk-estimator:hover label.sk-toggleable__label-arrow:before {color: black;}#sk-container-id-6 div.sk-toggleable__content {max-height: 0;max-width: 0;overflow: hidden;text-align: left;background-color: #f0f8ff;}#sk-container-id-6 div.sk-toggleable__content pre {margin: 0.2em;color: black;border-radius: 0.25em;background-color: #f0f8ff;}#sk-container-id-6 input.sk-toggleable__control:checked~div.sk-toggleable__content {max-height: 200px;max-width: 100%;overflow: auto;}#sk-container-id-6 input.sk-toggleable__control:checked~label.sk-toggleable__label-arrow:before {content: \"▾\";}#sk-container-id-6 div.sk-estimator input.sk-toggleable__control:checked~label.sk-toggleable__label {background-color: #d4ebff;}#sk-container-id-6 div.sk-label input.sk-toggleable__control:checked~label.sk-toggleable__label {background-color: #d4ebff;}#sk-container-id-6 input.sk-hidden--visually {border: 0;clip: rect(1px 1px 1px 1px);clip: rect(1px, 1px, 1px, 1px);height: 1px;margin: -1px;overflow: hidden;padding: 0;position: absolute;width: 1px;}#sk-container-id-6 div.sk-estimator {font-family: monospace;background-color: #f0f8ff;border: 1px dotted black;border-radius: 0.25em;box-sizing: border-box;margin-bottom: 0.5em;}#sk-container-id-6 div.sk-estimator:hover {background-color: #d4ebff;}#sk-container-id-6 div.sk-parallel-item::after {content: \"\";width: 100%;border-bottom: 1px solid gray;flex-grow: 1;}#sk-container-id-6 div.sk-label:hover label.sk-toggleable__label {background-color: #d4ebff;}#sk-container-id-6 div.sk-serial::before {content: \"\";position: absolute;border-left: 1px solid gray;box-sizing: border-box;top: 0;bottom: 0;left: 50%;z-index: 0;}#sk-container-id-6 div.sk-serial {display: flex;flex-direction: column;align-items: center;background-color: white;padding-right: 0.2em;padding-left: 0.2em;position: relative;}#sk-container-id-6 div.sk-item {position: relative;z-index: 1;}#sk-container-id-6 div.sk-parallel {display: flex;align-items: stretch;justify-content: center;background-color: white;position: relative;}#sk-container-id-6 div.sk-item::before, #sk-container-id-6 div.sk-parallel-item::before {content: \"\";position: absolute;border-left: 1px solid gray;box-sizing: border-box;top: 0;bottom: 0;left: 50%;z-index: -1;}#sk-container-id-6 div.sk-parallel-item {display: flex;flex-direction: column;z-index: 1;position: relative;background-color: white;}#sk-container-id-6 div.sk-parallel-item:first-child::after {align-self: flex-end;width: 50%;}#sk-container-id-6 div.sk-parallel-item:last-child::after {align-self: flex-start;width: 50%;}#sk-container-id-6 div.sk-parallel-item:only-child::after {width: 0;}#sk-container-id-6 div.sk-dashed-wrapped {border: 1px dashed gray;margin: 0 0.4em 0.5em 0.4em;box-sizing: border-box;padding-bottom: 0.4em;background-color: white;}#sk-container-id-6 div.sk-label label {font-family: monospace;font-weight: bold;display: inline-block;line-height: 1.2em;}#sk-container-id-6 div.sk-label-container {text-align: center;}#sk-container-id-6 div.sk-container {/* jupyter's `normalize.less` sets `[hidden] { display: none; }` but bootstrap.min.css set `[hidden] { display: none !important; }` so we also need the `!important` here to be able to override the default hidden behavior on the sphinx rendered scikit-learn.org. See: https://github.com/scikit-learn/scikit-learn/issues/21755 */display: inline-block !important;position: relative;}#sk-container-id-6 div.sk-text-repr-fallback {display: none;}</style><div id=\"sk-container-id-6\" class=\"sk-top-container\"><div class=\"sk-text-repr-fallback\"><pre>CountVectorizer(min_df=2, ngram_range=(3, 3), stop_words=&#x27;english&#x27;,\n",
       "                strip_accents=&#x27;ascii&#x27;)</pre><b>In a Jupyter environment, please rerun this cell to show the HTML representation or trust the notebook. <br />On GitHub, the HTML representation is unable to render, please try loading this page with nbviewer.org.</b></div><div class=\"sk-container\" hidden><div class=\"sk-item\"><div class=\"sk-estimator sk-toggleable\"><input class=\"sk-toggleable__control sk-hidden--visually\" id=\"sk-estimator-id-6\" type=\"checkbox\" checked><label for=\"sk-estimator-id-6\" class=\"sk-toggleable__label sk-toggleable__label-arrow\">CountVectorizer</label><div class=\"sk-toggleable__content\"><pre>CountVectorizer(min_df=2, ngram_range=(3, 3), stop_words=&#x27;english&#x27;,\n",
       "                strip_accents=&#x27;ascii&#x27;)</pre></div></div></div></div></div>"
      ],
      "text/plain": [
       "CountVectorizer(min_df=2, ngram_range=(3, 3), stop_words='english',\n",
       "                strip_accents='ascii')"
      ]
     },
     "execution_count": 55,
     "metadata": {},
     "output_type": "execute_result"
    }
   ],
   "source": [
    "cv = CountVectorizer(stop_words='english', ngram_range=(3,3), strip_accents='ascii', min_df=2)\n",
    "cv.fit(text)"
   ]
  },
  {
   "cell_type": "code",
   "execution_count": 56,
   "id": "bd8119fb-53a8-4519-9b96-0b338b67273a",
   "metadata": {},
   "outputs": [],
   "source": [
    "text_cv = cv.transform(text)\n",
    "text_ngrams_2 = pd.DataFrame(text_cv.A, columns=cv.get_feature_names_out())"
   ]
  },
  {
   "cell_type": "code",
   "execution_count": 57,
   "id": "6f1276bf-b78d-4fe4-af85-9a5939558da1",
   "metadata": {},
   "outputs": [
    {
     "data": {
      "text/plain": [
       "(35726, 8455)"
      ]
     },
     "execution_count": 57,
     "metadata": {},
     "output_type": "execute_result"
    }
   ],
   "source": [
    "text_ngrams_2.shape"
   ]
  },
  {
   "cell_type": "code",
   "execution_count": null,
   "id": "8fe72f85-65ac-4eae-a6a9-2a192f302893",
   "metadata": {},
   "outputs": [],
   "source": []
  },
  {
   "cell_type": "code",
   "execution_count": 58,
   "id": "56be3138-3ba5-471c-a12c-a5a6a88764f3",
   "metadata": {},
   "outputs": [
    {
     "data": {
      "text/plain": [
       "support current thing                                       63\n",
       "happy cover friday                                          55\n",
       "feld thoughts book                                          50\n",
       "startup community way                                       34\n",
       "public service announcement                                 26\n",
       "chips shoulders chips                                       24\n",
       "00 pm pst                                                   22\n",
       "failure imagine failure                                     21\n",
       "comes failure imagine                                       21\n",
       "failure comes failure                                       21\n",
       "shoulders chips pockets                                     21\n",
       "emerging fund managers                                      19\n",
       "venture unlocked podcast                                    17\n",
       "email brad com                                              17\n",
       "nuclear frack drill                                         16\n",
       "gaygaygaygaygaygay gaygaygaygaygaygay gaygaygaygaygaygay    16\n",
       "build nuclear frack                                         16\n",
       "00 pm pdt                                                   16\n",
       "supports current thing                                      16\n",
       "gt gt gt                                                    15\n",
       "dtype: int64"
      ]
     },
     "execution_count": 58,
     "metadata": {},
     "output_type": "execute_result"
    }
   ],
   "source": [
    "text_ngrams_2.sum().sort_values(ascending=False).head(20)"
   ]
  },
  {
   "cell_type": "code",
   "execution_count": 39,
   "id": "82ecfedf-c51e-4d09-91b8-981b12f1cd18",
   "metadata": {},
   "outputs": [
    {
     "data": {
      "text/plain": [
       "Index(['00 pm', '000 000', '000 jobs', '000 people', '10 00', '10 000',\n",
       "       '10 10', '10 15', '10 20', '10 companies',\n",
       "       ...\n",
       "       'youre right', 'youre saying', 'youre trying', 'youre welcome',\n",
       "       'youve got', 'youve lost', 'yr old', 'yrs ago', 'zero carbon',\n",
       "       'zero sum'],\n",
       "      dtype='object', length=3104)"
      ]
     },
     "execution_count": 39,
     "metadata": {},
     "output_type": "execute_result"
    }
   ],
   "source": [
    "text_ngrams_2.columns"
   ]
  },
  {
   "cell_type": "markdown",
   "id": "a848761b-7562-4d0d-b0b0-ef89b72a6637",
   "metadata": {
    "jupyter": {
     "source_hidden": true
    },
    "tags": []
   },
   "source": [
    "Quick question: who is talking about Nietzsche so much? "
   ]
  },
  {
   "cell_type": "code",
   "execution_count": 41,
   "id": "8709a76f-7e2f-4b2c-b653-75508d835364",
   "metadata": {
    "collapsed": true,
    "jupyter": {
     "outputs_hidden": true,
     "source_hidden": true
    },
    "tags": []
   },
   "outputs": [
    {
     "data": {
      "text/html": [
       "<div>\n",
       "<style scoped>\n",
       "    .dataframe tbody tr th:only-of-type {\n",
       "        vertical-align: middle;\n",
       "    }\n",
       "\n",
       "    .dataframe tbody tr th {\n",
       "        vertical-align: top;\n",
       "    }\n",
       "\n",
       "    .dataframe thead th {\n",
       "        text-align: right;\n",
       "    }\n",
       "</style>\n",
       "<table border=\"1\" class=\"dataframe\">\n",
       "  <thead>\n",
       "    <tr style=\"text-align: right;\">\n",
       "      <th></th>\n",
       "      <th>no_rts</th>\n",
       "      <th>retweet</th>\n",
       "    </tr>\n",
       "  </thead>\n",
       "  <tbody>\n",
       "    <tr>\n",
       "      <th>3044</th>\n",
       "      <td>i had a great conversation with brad feld at i...</td>\n",
       "      <td>1</td>\n",
       "    </tr>\n",
       "    <tr>\n",
       "      <th>3076</th>\n",
       "      <td>brad feld: “friedrich nietzsche is the patron ...</td>\n",
       "      <td>0</td>\n",
       "    </tr>\n",
       "    <tr>\n",
       "      <th>3080</th>\n",
       "      <td>join me and  ceo, dave mayer for a fireside ch...</td>\n",
       "      <td>0</td>\n",
       "    </tr>\n",
       "    <tr>\n",
       "      <th>3083</th>\n",
       "      <td>come join us on thursday 9/16 where  will be t...</td>\n",
       "      <td>1</td>\n",
       "    </tr>\n",
       "    <tr>\n",
       "      <th>3092</th>\n",
       "      <td>nietzsche and the rebels: a conversation with ...</td>\n",
       "      <td>0</td>\n",
       "    </tr>\n",
       "    <tr>\n",
       "      <th>3094</th>\n",
       "      <td>i interviewed  about his new book that explore...</td>\n",
       "      <td>1</td>\n",
       "    </tr>\n",
       "    <tr>\n",
       "      <th>3096</th>\n",
       "      <td>brad feld on nietzsche for creators  by</td>\n",
       "      <td>0</td>\n",
       "    </tr>\n",
       "    <tr>\n",
       "      <th>3104</th>\n",
       "      <td>one of the most fascinating chats i had recent...</td>\n",
       "      <td>1</td>\n",
       "    </tr>\n",
       "    <tr>\n",
       "      <th>3107</th>\n",
       "      <td>building a startup? explore nietzsche's philos...</td>\n",
       "      <td>0</td>\n",
       "    </tr>\n",
       "    <tr>\n",
       "      <th>3113</th>\n",
       "      <td>twitter spaces and nietzsche</td>\n",
       "      <td>0</td>\n",
       "    </tr>\n",
       "  </tbody>\n",
       "</table>\n",
       "</div>"
      ],
      "text/plain": [
       "                                                 no_rts  retweet\n",
       "3044  i had a great conversation with brad feld at i...        1\n",
       "3076  brad feld: “friedrich nietzsche is the patron ...        0\n",
       "3080  join me and  ceo, dave mayer for a fireside ch...        0\n",
       "3083  come join us on thursday 9/16 where  will be t...        1\n",
       "3092  nietzsche and the rebels: a conversation with ...        0\n",
       "3094  i interviewed  about his new book that explore...        1\n",
       "3096           brad feld on nietzsche for creators  by         0\n",
       "3104  one of the most fascinating chats i had recent...        1\n",
       "3107  building a startup? explore nietzsche's philos...        0\n",
       "3113                      twitter spaces and nietzsche         0"
      ]
     },
     "execution_count": 41,
     "metadata": {},
     "output_type": "execute_result"
    }
   ],
   "source": [
    "df[df['no_rts'].str.contains('nietzsche')].head(10)"
   ]
  },
  {
   "cell_type": "markdown",
   "id": "33fa4f50-d9f7-4eb5-9863-9e215ae54561",
   "metadata": {
    "jupyter": {
     "source_hidden": true
    },
    "tags": []
   },
   "source": [
    "Answer: It seems Brad Feld wrote a book with 'Nietzsche' in the title."
   ]
  },
  {
   "cell_type": "code",
   "execution_count": 42,
   "id": "a780ba5d-3497-4839-9e19-a25cd34b675b",
   "metadata": {},
   "outputs": [],
   "source": [
    "#df.to_csv('./data/tweets.txt', header=None, index=None, sep=' ', mode='a')"
   ]
  },
  {
   "cell_type": "code",
   "execution_count": 43,
   "id": "6a199aef-d53f-4cec-8da2-5c6f0d61c816",
   "metadata": {},
   "outputs": [],
   "source": [
    "# sentiment analysis?"
   ]
  },
  {
   "cell_type": "markdown",
   "id": "1c3ad619-8ae1-4883-a1ca-a421f7961ddd",
   "metadata": {
    "tags": []
   },
   "source": [
    "### Tfidf Vectorizer\n",
    "\n",
    "-----\n",
    "\n",
    "For good measure, Tfidf will be used for the double-word combinations. The `min_df=2` parameter is also included here to avoid memory issues."
   ]
  },
  {
   "cell_type": "code",
   "execution_count": 64,
   "id": "764d140f-3949-40c1-af25-05e412d694ca",
   "metadata": {
    "tags": []
   },
   "outputs": [
    {
     "data": {
      "text/html": [
       "<style>#sk-container-id-8 {color: black;background-color: white;}#sk-container-id-8 pre{padding: 0;}#sk-container-id-8 div.sk-toggleable {background-color: white;}#sk-container-id-8 label.sk-toggleable__label {cursor: pointer;display: block;width: 100%;margin-bottom: 0;padding: 0.3em;box-sizing: border-box;text-align: center;}#sk-container-id-8 label.sk-toggleable__label-arrow:before {content: \"▸\";float: left;margin-right: 0.25em;color: #696969;}#sk-container-id-8 label.sk-toggleable__label-arrow:hover:before {color: black;}#sk-container-id-8 div.sk-estimator:hover label.sk-toggleable__label-arrow:before {color: black;}#sk-container-id-8 div.sk-toggleable__content {max-height: 0;max-width: 0;overflow: hidden;text-align: left;background-color: #f0f8ff;}#sk-container-id-8 div.sk-toggleable__content pre {margin: 0.2em;color: black;border-radius: 0.25em;background-color: #f0f8ff;}#sk-container-id-8 input.sk-toggleable__control:checked~div.sk-toggleable__content {max-height: 200px;max-width: 100%;overflow: auto;}#sk-container-id-8 input.sk-toggleable__control:checked~label.sk-toggleable__label-arrow:before {content: \"▾\";}#sk-container-id-8 div.sk-estimator input.sk-toggleable__control:checked~label.sk-toggleable__label {background-color: #d4ebff;}#sk-container-id-8 div.sk-label input.sk-toggleable__control:checked~label.sk-toggleable__label {background-color: #d4ebff;}#sk-container-id-8 input.sk-hidden--visually {border: 0;clip: rect(1px 1px 1px 1px);clip: rect(1px, 1px, 1px, 1px);height: 1px;margin: -1px;overflow: hidden;padding: 0;position: absolute;width: 1px;}#sk-container-id-8 div.sk-estimator {font-family: monospace;background-color: #f0f8ff;border: 1px dotted black;border-radius: 0.25em;box-sizing: border-box;margin-bottom: 0.5em;}#sk-container-id-8 div.sk-estimator:hover {background-color: #d4ebff;}#sk-container-id-8 div.sk-parallel-item::after {content: \"\";width: 100%;border-bottom: 1px solid gray;flex-grow: 1;}#sk-container-id-8 div.sk-label:hover label.sk-toggleable__label {background-color: #d4ebff;}#sk-container-id-8 div.sk-serial::before {content: \"\";position: absolute;border-left: 1px solid gray;box-sizing: border-box;top: 0;bottom: 0;left: 50%;z-index: 0;}#sk-container-id-8 div.sk-serial {display: flex;flex-direction: column;align-items: center;background-color: white;padding-right: 0.2em;padding-left: 0.2em;position: relative;}#sk-container-id-8 div.sk-item {position: relative;z-index: 1;}#sk-container-id-8 div.sk-parallel {display: flex;align-items: stretch;justify-content: center;background-color: white;position: relative;}#sk-container-id-8 div.sk-item::before, #sk-container-id-8 div.sk-parallel-item::before {content: \"\";position: absolute;border-left: 1px solid gray;box-sizing: border-box;top: 0;bottom: 0;left: 50%;z-index: -1;}#sk-container-id-8 div.sk-parallel-item {display: flex;flex-direction: column;z-index: 1;position: relative;background-color: white;}#sk-container-id-8 div.sk-parallel-item:first-child::after {align-self: flex-end;width: 50%;}#sk-container-id-8 div.sk-parallel-item:last-child::after {align-self: flex-start;width: 50%;}#sk-container-id-8 div.sk-parallel-item:only-child::after {width: 0;}#sk-container-id-8 div.sk-dashed-wrapped {border: 1px dashed gray;margin: 0 0.4em 0.5em 0.4em;box-sizing: border-box;padding-bottom: 0.4em;background-color: white;}#sk-container-id-8 div.sk-label label {font-family: monospace;font-weight: bold;display: inline-block;line-height: 1.2em;}#sk-container-id-8 div.sk-label-container {text-align: center;}#sk-container-id-8 div.sk-container {/* jupyter's `normalize.less` sets `[hidden] { display: none; }` but bootstrap.min.css set `[hidden] { display: none !important; }` so we also need the `!important` here to be able to override the default hidden behavior on the sphinx rendered scikit-learn.org. See: https://github.com/scikit-learn/scikit-learn/issues/21755 */display: inline-block !important;position: relative;}#sk-container-id-8 div.sk-text-repr-fallback {display: none;}</style><div id=\"sk-container-id-8\" class=\"sk-top-container\"><div class=\"sk-text-repr-fallback\"><pre>TfidfVectorizer(min_df=2, ngram_range=(2, 2), stop_words=&#x27;english&#x27;,\n",
       "                strip_accents=&#x27;ascii&#x27;)</pre><b>In a Jupyter environment, please rerun this cell to show the HTML representation or trust the notebook. <br />On GitHub, the HTML representation is unable to render, please try loading this page with nbviewer.org.</b></div><div class=\"sk-container\" hidden><div class=\"sk-item\"><div class=\"sk-estimator sk-toggleable\"><input class=\"sk-toggleable__control sk-hidden--visually\" id=\"sk-estimator-id-8\" type=\"checkbox\" checked><label for=\"sk-estimator-id-8\" class=\"sk-toggleable__label sk-toggleable__label-arrow\">TfidfVectorizer</label><div class=\"sk-toggleable__content\"><pre>TfidfVectorizer(min_df=2, ngram_range=(2, 2), stop_words=&#x27;english&#x27;,\n",
       "                strip_accents=&#x27;ascii&#x27;)</pre></div></div></div></div></div>"
      ],
      "text/plain": [
       "TfidfVectorizer(min_df=2, ngram_range=(2, 2), stop_words='english',\n",
       "                strip_accents='ascii')"
      ]
     },
     "execution_count": 64,
     "metadata": {},
     "output_type": "execute_result"
    }
   ],
   "source": [
    "tf = TfidfVectorizer(stop_words='english', ngram_range=(2,2), strip_accents='ascii', min_df=2)\n",
    "tf.fit(text)"
   ]
  },
  {
   "cell_type": "code",
   "execution_count": 65,
   "id": "2f8deade-eac4-45e0-bc0e-82529fbbb761",
   "metadata": {},
   "outputs": [],
   "source": [
    "text_tf = tf.transform(text)\n",
    "text_ngrams_2_tf = pd.DataFrame(text_tf.A, columns=tf.get_feature_names_out())"
   ]
  },
  {
   "cell_type": "code",
   "execution_count": 66,
   "id": "ab724f42-4cb5-47de-bb57-cf852e4dedb9",
   "metadata": {},
   "outputs": [
    {
     "data": {
      "text/plain": [
       "(35726, 28250)"
      ]
     },
     "execution_count": 66,
     "metadata": {},
     "output_type": "execute_result"
    }
   ],
   "source": [
    "text_ngrams_2_tf.shape"
   ]
  },
  {
   "cell_type": "code",
   "execution_count": 68,
   "id": "321db1b3-3df9-4f9f-8e70-6adaf0267469",
   "metadata": {},
   "outputs": [
    {
     "data": {
      "text/plain": [
       "feld thoughts      265.431565\n",
       "current thing      114.761740\n",
       "years ago           68.836054\n",
       "lux family          60.167670\n",
       "covid 19            52.446419\n",
       "looking forward     51.773705\n",
       "venture capital     51.123392\n",
       "early stage         46.014249\n",
       "don know            41.494797\n",
       "support current     40.992901\n",
       "dtype: float64"
      ]
     },
     "execution_count": 68,
     "metadata": {},
     "output_type": "execute_result"
    }
   ],
   "source": [
    "text_ngrams_2_tf.sum().sort_values(ascending=False).head(10)"
   ]
  }
 ],
 "metadata": {
  "kernelspec": {
   "display_name": "Python 3 (ipykernel)",
   "language": "python",
   "name": "python3"
  },
  "language_info": {
   "codemirror_mode": {
    "name": "ipython",
    "version": 3
   },
   "file_extension": ".py",
   "mimetype": "text/x-python",
   "name": "python",
   "nbconvert_exporter": "python",
   "pygments_lexer": "ipython3",
   "version": "3.9.12"
  }
 },
 "nbformat": 4,
 "nbformat_minor": 5
}
