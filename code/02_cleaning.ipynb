{
 "cells": [
  {
   "cell_type": "markdown",
   "id": "b5f033bd-6709-40a2-8663-6e03030fe893",
   "metadata": {},
   "source": [
    "# 02. Cleaning "
   ]
  },
  {
   "cell_type": "markdown",
   "id": "d3cef772-81ec-4fff-a1c8-fbf6a8494c0a",
   "metadata": {},
   "source": [
    "After downloading all desired csv files of the Twitter users, this notebook will combine them into a single dataframe, anonymize them, remove URLs, quotes, and 'RT :' and add a column indicating whether the tweet is a retweet or original. It will also save a .txt of the entire dataframe for model fine-tuning later."
   ]
  },
  {
   "cell_type": "code",
   "execution_count": 48,
   "id": "65423a59-ebff-4324-91c6-80cd85fcf080",
   "metadata": {},
   "outputs": [],
   "source": [
    "import os\n",
    "import re\n",
    "import warnings\n",
    "\n",
    "import pandas as pd\n",
    "import numpy as np"
   ]
  },
  {
   "cell_type": "markdown",
   "id": "fd733c10-b445-433c-b506-de821fc74bbf",
   "metadata": {},
   "source": [
    "Do not upload the raw files from `01_twitter_user.py`, as they will have usernames and mentions that may make them easily identifiable. Pull all files from the folder with the Twitter data below. Then reset the index, check the shape to make sure the right number of Tweets were downloaded, and run the cells below to remove usernames, URLs, and 'RT :' text. "
   ]
  },
  {
   "cell_type": "code",
   "execution_count": 3,
   "id": "48cd56c8-f27c-427a-b0e6-792d59c1528f",
   "metadata": {},
   "outputs": [
    {
     "name": "stderr",
     "output_type": "stream",
     "text": [
      "/var/folders/vs/w7rl81xx4v3dmfdm5sty1pl40000gn/T/ipykernel_2024/1788974780.py:8: FutureWarning: The frame.append method is deprecated and will be removed from pandas in a future version. Use pandas.concat instead.\n",
      "  df = df.append(pd.read_csv(f'../no_upload_twitter_data/{filename}', index_col=0))\n"
     ]
    }
   ],
   "source": [
    "#pull all files from folder and make single dataframe\n",
    "\n",
    "folder = os.listdir(path='../no_upload_twitter_data/')\n",
    "df = pd.DataFrame()\n",
    "\n",
    "for filename in folder:\n",
    "    if 'twitter_user_' in str(filename):\n",
    "        df = df.append(pd.read_csv(f'../no_upload_twitter_data/{filename}', index_col=0))\n",
    "        warnings.simplefilter(\"ignore\") \n"
   ]
  },
  {
   "cell_type": "code",
   "execution_count": 4,
   "id": "d91df3f9-bf9f-48b9-adc8-04a9bab2f70e",
   "metadata": {},
   "outputs": [],
   "source": [
    "df.reset_index(inplace=True, drop=True)"
   ]
  },
  {
   "cell_type": "code",
   "execution_count": 5,
   "id": "4da48411-fba0-4710-a11c-bcc0f1819482",
   "metadata": {},
   "outputs": [
    {
     "data": {
      "text/plain": [
       "(35999, 2)"
      ]
     },
     "execution_count": 5,
     "metadata": {},
     "output_type": "execute_result"
    }
   ],
   "source": [
    "df.shape"
   ]
  },
  {
   "cell_type": "code",
   "execution_count": 6,
   "id": "41c823a4-69f4-4f0a-8243-406468ee11f6",
   "metadata": {},
   "outputs": [
    {
     "data": {
      "text/plain": [
       "35999"
      ]
     },
     "execution_count": 6,
     "metadata": {},
     "output_type": "execute_result"
    }
   ],
   "source": [
    "df['Tweet'].shape[0]"
   ]
  },
  {
   "cell_type": "code",
   "execution_count": 7,
   "id": "e816aa06-0166-4139-b704-b7bcd1b0e241",
   "metadata": {},
   "outputs": [],
   "source": [
    "#create new column to overwrite with function below\n",
    "df['new_tweet'] = df['Tweet']"
   ]
  },
  {
   "cell_type": "code",
   "execution_count": 8,
   "id": "b8383916-2d76-4ddd-8cd5-1355b1f9bd3f",
   "metadata": {},
   "outputs": [],
   "source": [
    "#remove all usernames\n",
    "\n",
    "no_usernames = []\n",
    "\n",
    "for ind in range(0,df['Tweet'].shape[0]):\n",
    "    no_usernames.append(re.sub('@[\\w]+','', df['Tweet'][ind]))\n",
    "\n"
   ]
  },
  {
   "cell_type": "code",
   "execution_count": 9,
   "id": "efd4d386-e48b-4553-a378-807335aa4dae",
   "metadata": {},
   "outputs": [],
   "source": [
    "df['new_tweet'] = no_usernames"
   ]
  },
  {
   "cell_type": "code",
   "execution_count": 10,
   "id": "d2598fd4-2530-4759-9721-a0dc4b2c1d2c",
   "metadata": {},
   "outputs": [
    {
     "data": {
      "text/html": [
       "<div>\n",
       "<style scoped>\n",
       "    .dataframe tbody tr th:only-of-type {\n",
       "        vertical-align: middle;\n",
       "    }\n",
       "\n",
       "    .dataframe tbody tr th {\n",
       "        vertical-align: top;\n",
       "    }\n",
       "\n",
       "    .dataframe thead th {\n",
       "        text-align: right;\n",
       "    }\n",
       "</style>\n",
       "<table border=\"1\" class=\"dataframe\">\n",
       "  <thead>\n",
       "    <tr style=\"text-align: right;\">\n",
       "      <th></th>\n",
       "      <th>new_tweet</th>\n",
       "    </tr>\n",
       "  </thead>\n",
       "  <tbody>\n",
       "    <tr>\n",
       "      <th>0</th>\n",
       "      <td>That would be sign of an inexperienced inves...</td>\n",
       "    </tr>\n",
       "    <tr>\n",
       "      <th>1</th>\n",
       "      <td>Although the market reset is healthy and good ...</td>\n",
       "    </tr>\n",
       "  </tbody>\n",
       "</table>\n",
       "</div>"
      ],
      "text/plain": [
       "                                           new_tweet\n",
       "0    That would be sign of an inexperienced inves...\n",
       "1  Although the market reset is healthy and good ..."
      ]
     },
     "execution_count": 10,
     "metadata": {},
     "output_type": "execute_result"
    }
   ],
   "source": [
    "df[['new_tweet']].head(2)"
   ]
  },
  {
   "cell_type": "code",
   "execution_count": 11,
   "id": "e4e7b089-2ce3-428e-bf10-baa89de56795",
   "metadata": {},
   "outputs": [],
   "source": [
    "# remove all URLs\n",
    "\n",
    "no_urls = []\n",
    "\n",
    "for ind in range(0, df['new_tweet'].shape[0]):\n",
    "    no_urls.append(re.sub(r'http\\S+', '', df['new_tweet'][ind]))\n",
    "\n",
    "df['no_urls'] = no_urls"
   ]
  },
  {
   "cell_type": "code",
   "execution_count": 12,
   "id": "6cdf5845-4bf3-4abf-b280-5f9e872698a9",
   "metadata": {},
   "outputs": [],
   "source": [
    "# save whether a tweet is a retweet or not\n",
    "df['retweet'] = np.where(df.no_urls.str.contains(\"RT :\"), 1, 0)"
   ]
  },
  {
   "cell_type": "code",
   "execution_count": 13,
   "id": "4244c868-3e66-4097-9ea2-0e88eda5c82e",
   "metadata": {},
   "outputs": [
    {
     "data": {
      "text/html": [
       "<div>\n",
       "<style scoped>\n",
       "    .dataframe tbody tr th:only-of-type {\n",
       "        vertical-align: middle;\n",
       "    }\n",
       "\n",
       "    .dataframe tbody tr th {\n",
       "        vertical-align: top;\n",
       "    }\n",
       "\n",
       "    .dataframe thead th {\n",
       "        text-align: right;\n",
       "    }\n",
       "</style>\n",
       "<table border=\"1\" class=\"dataframe\">\n",
       "  <thead>\n",
       "    <tr style=\"text-align: right;\">\n",
       "      <th></th>\n",
       "      <th>no_urls</th>\n",
       "      <th>retweet</th>\n",
       "    </tr>\n",
       "  </thead>\n",
       "  <tbody>\n",
       "    <tr>\n",
       "      <th>0</th>\n",
       "      <td>That would be sign of an inexperienced inves...</td>\n",
       "      <td>0</td>\n",
       "    </tr>\n",
       "    <tr>\n",
       "      <th>1</th>\n",
       "      <td>Although the market reset is healthy and good ...</td>\n",
       "      <td>0</td>\n",
       "    </tr>\n",
       "    <tr>\n",
       "      <th>2</th>\n",
       "      <td>I'd love to see what % of seed-stage investors...</td>\n",
       "      <td>0</td>\n",
       "    </tr>\n",
       "    <tr>\n",
       "      <th>3</th>\n",
       "      <td>When thinking about valuations, anchoring on 2...</td>\n",
       "      <td>0</td>\n",
       "    </tr>\n",
       "    <tr>\n",
       "      <th>4</th>\n",
       "      <td>Why there are still like 23,000 different form...</td>\n",
       "      <td>0</td>\n",
       "    </tr>\n",
       "  </tbody>\n",
       "</table>\n",
       "</div>"
      ],
      "text/plain": [
       "                                             no_urls  retweet\n",
       "0    That would be sign of an inexperienced inves...        0\n",
       "1  Although the market reset is healthy and good ...        0\n",
       "2  I'd love to see what % of seed-stage investors...        0\n",
       "3  When thinking about valuations, anchoring on 2...        0\n",
       "4  Why there are still like 23,000 different form...        0"
      ]
     },
     "execution_count": 13,
     "metadata": {},
     "output_type": "execute_result"
    }
   ],
   "source": [
    "df[['no_urls','retweet']].head()"
   ]
  },
  {
   "cell_type": "code",
   "execution_count": 14,
   "id": "d16cb470-3d5b-4300-b786-7f71640d45ef",
   "metadata": {},
   "outputs": [],
   "source": [
    "# remove 'RT : ' from each tweet\n",
    "\n",
    "no_rts = []\n",
    "\n",
    "for ind in range(0, df['no_urls'].shape[0]):\n",
    "    no_rts.append(re.sub(r'RT : ', '', df['no_urls'][ind]))\n",
    "\n",
    "df['no_rts'] = no_rts"
   ]
  },
  {
   "cell_type": "code",
   "execution_count": 15,
   "id": "6f1e40fa-ea22-4c3e-b54b-6ad311e1834c",
   "metadata": {},
   "outputs": [],
   "source": [
    "#save anonymized tweets with no URLs\n",
    "#df[['no_rts','retweet']].to_csv('./data/3000_tweets.csv', index=0)"
   ]
  },
  {
   "cell_type": "code",
   "execution_count": 16,
   "id": "5b3b4516-1e28-48f9-9b41-d04d1fbee69e",
   "metadata": {},
   "outputs": [
    {
     "data": {
      "text/plain": [
       "(35999, 6)"
      ]
     },
     "execution_count": 16,
     "metadata": {},
     "output_type": "execute_result"
    }
   ],
   "source": [
    "df.shape"
   ]
  },
  {
   "cell_type": "code",
   "execution_count": 17,
   "id": "ea6fc3a8-7b7d-4c3f-b09e-fbc3cea518e4",
   "metadata": {},
   "outputs": [
    {
     "data": {
      "text/plain": [
       "no_rts    0\n",
       "dtype: int64"
      ]
     },
     "execution_count": 17,
     "metadata": {},
     "output_type": "execute_result"
    }
   ],
   "source": [
    "df[['no_rts']].isnull().sum()"
   ]
  },
  {
   "cell_type": "markdown",
   "id": "ab20c0fe-ba3c-4947-86f8-68309b66084c",
   "metadata": {},
   "source": [
    "In case there are any nulls, the below cells will clean them. The only way a row would be a null is if it consisted of nothing but a username and/or a URL."
   ]
  },
  {
   "cell_type": "code",
   "execution_count": 18,
   "id": "5be32b75-6696-4a23-bb11-3b2ba903b2fb",
   "metadata": {},
   "outputs": [],
   "source": [
    "df.dropna(axis=0, inplace=True)"
   ]
  },
  {
   "cell_type": "code",
   "execution_count": 19,
   "id": "e3fec701-8888-4342-acf6-1c3c0d094526",
   "metadata": {},
   "outputs": [
    {
     "data": {
      "text/plain": [
       "User         0\n",
       "Tweet        0\n",
       "new_tweet    0\n",
       "no_urls      0\n",
       "retweet      0\n",
       "no_rts       0\n",
       "dtype: int64"
      ]
     },
     "execution_count": 19,
     "metadata": {},
     "output_type": "execute_result"
    }
   ],
   "source": [
    "df.isnull().sum()"
   ]
  },
  {
   "cell_type": "markdown",
   "id": "061cbe68-259b-4960-bd06-99c13b7dafa2",
   "metadata": {},
   "source": [
    "Now we can save the tweets as a single clean text file for processing in the next notebook."
   ]
  },
  {
   "cell_type": "code",
   "execution_count": 20,
   "id": "72afbfed-8212-431c-be92-a3f3db2ab03e",
   "metadata": {},
   "outputs": [],
   "source": [
    "df['no_rts'] = df['no_rts'].str.lower()"
   ]
  },
  {
   "cell_type": "code",
   "execution_count": 21,
   "id": "a6704bf0-af95-4452-a5ee-623a5bc2cacb",
   "metadata": {},
   "outputs": [],
   "source": [
    "text = df['no_rts']"
   ]
  },
  {
   "cell_type": "code",
   "execution_count": 22,
   "id": "27f4fa72-c6af-4a84-b962-62e21adf4720",
   "metadata": {},
   "outputs": [],
   "source": [
    "# save text without quotes\n",
    "#text_no = np.savetxt('./data/3000_tweets.txt', text.values, fmt = \"%s\")"
   ]
  },
  {
   "cell_type": "code",
   "execution_count": 23,
   "id": "9b1e013f-1e80-4bbb-bbc2-8d9ac6d71286",
   "metadata": {},
   "outputs": [
    {
     "data": {
      "text/plain": [
       "0    0.771466\n",
       "1    0.228534\n",
       "Name: retweet, dtype: float64"
      ]
     },
     "execution_count": 23,
     "metadata": {},
     "output_type": "execute_result"
    }
   ],
   "source": [
    "df['retweet'].value_counts(normalize=True)"
   ]
  },
  {
   "cell_type": "markdown",
   "id": "7a18b784-b6ad-44a6-b06e-1d5b95fb629c",
   "metadata": {},
   "source": [
    "The sample of ~4,000 tweets is split about 77%/23% into original tweets and retweets. \n",
    "\n",
    "The data can now be further explored in the next notebook."
   ]
  }
 ],
 "metadata": {
  "kernelspec": {
   "display_name": "Python 3 (ipykernel)",
   "language": "python",
   "name": "python3"
  },
  "language_info": {
   "codemirror_mode": {
    "name": "ipython",
    "version": 3
   },
   "file_extension": ".py",
   "mimetype": "text/x-python",
   "name": "python",
   "nbconvert_exporter": "python",
   "pygments_lexer": "ipython3",
   "version": "3.9.12"
  }
 },
 "nbformat": 4,
 "nbformat_minor": 5
}
