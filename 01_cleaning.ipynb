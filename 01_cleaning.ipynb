{
 "cells": [
  {
   "cell_type": "markdown",
   "id": "b5f033bd-6709-40a2-8663-6e03030fe893",
   "metadata": {},
   "source": [
    "# 1. Cleaning & EDA"
   ]
  },
  {
   "cell_type": "code",
   "execution_count": 1,
   "id": "65423a59-ebff-4324-91c6-80cd85fcf080",
   "metadata": {},
   "outputs": [],
   "source": [
    "import os\n",
    "import re\n",
    "import pandas as pd\n",
    "import numpy as np\n",
    "import warnings"
   ]
  },
  {
   "cell_type": "code",
   "execution_count": 2,
   "id": "48cd56c8-f27c-427a-b0e6-792d59c1528f",
   "metadata": {},
   "outputs": [
    {
     "name": "stderr",
     "output_type": "stream",
     "text": [
      "/var/folders/vs/w7rl81xx4v3dmfdm5sty1pl40000gn/T/ipykernel_27532/2697461994.py:9: FutureWarning: The frame.append method is deprecated and will be removed from pandas in a future version. Use pandas.concat instead.\n",
      "  df = df.append(pd.read_csv(f'./twitter_data/{filename}', index_col=0))\n"
     ]
    }
   ],
   "source": [
    "#pull all files from folder and make single dataframe\n",
    "# https://stackoverflow.com/questions/20906474/import-multiple-csv-files-into-pandas-and-concatenate-into-one-dataframe\n",
    "\n",
    "folder = os.listdir(path='./twitter_data/')\n",
    "df = pd.DataFrame()\n",
    "\n",
    "for filename in folder:\n",
    "    if 'twitter_user_' in str(filename):\n",
    "        df = df.append(pd.read_csv(f'./twitter_data/{filename}', index_col=0))\n",
    "        warnings.simplefilter(\"ignore\")\n"
   ]
  },
  {
   "cell_type": "code",
   "execution_count": 3,
   "id": "d91df3f9-bf9f-48b9-adc8-04a9bab2f70e",
   "metadata": {},
   "outputs": [],
   "source": [
    "df.reset_index(inplace=True, drop=True)"
   ]
  },
  {
   "cell_type": "code",
   "execution_count": 4,
   "id": "4da48411-fba0-4710-a11c-bcc0f1819482",
   "metadata": {},
   "outputs": [
    {
     "data": {
      "text/plain": [
       "(4023, 2)"
      ]
     },
     "execution_count": 4,
     "metadata": {},
     "output_type": "execute_result"
    }
   ],
   "source": [
    "df.shape"
   ]
  },
  {
   "cell_type": "code",
   "execution_count": 5,
   "id": "41c823a4-69f4-4f0a-8243-406468ee11f6",
   "metadata": {},
   "outputs": [
    {
     "data": {
      "text/plain": [
       "4023"
      ]
     },
     "execution_count": 5,
     "metadata": {},
     "output_type": "execute_result"
    }
   ],
   "source": [
    "df['Tweet'].shape[0]"
   ]
  },
  {
   "cell_type": "code",
   "execution_count": 6,
   "id": "e816aa06-0166-4139-b704-b7bcd1b0e241",
   "metadata": {},
   "outputs": [],
   "source": [
    "#create new column\n",
    "df['new_tweet'] = df['Tweet']"
   ]
  },
  {
   "cell_type": "code",
   "execution_count": 7,
   "id": "b8383916-2d76-4ddd-8cd5-1355b1f9bd3f",
   "metadata": {},
   "outputs": [],
   "source": [
    "#remove all usernames\n",
    "# https://stackoverflow.com/questions/50830214/remove-usernames-from-twitter-data-using-python\n",
    "no_usernames = []\n",
    "\n",
    "for ind in range(0,df['Tweet'].shape[0]):\n",
    "    no_usernames.append(re.sub('@[\\w]+','', df['Tweet'][ind]))\n",
    "\n"
   ]
  },
  {
   "cell_type": "code",
   "execution_count": 8,
   "id": "efd4d386-e48b-4553-a378-807335aa4dae",
   "metadata": {},
   "outputs": [],
   "source": [
    "df['new_tweet'] = no_usernames"
   ]
  },
  {
   "cell_type": "code",
   "execution_count": 9,
   "id": "d2598fd4-2530-4759-9721-a0dc4b2c1d2c",
   "metadata": {},
   "outputs": [
    {
     "data": {
      "text/html": [
       "<div>\n",
       "<style scoped>\n",
       "    .dataframe tbody tr th:only-of-type {\n",
       "        vertical-align: middle;\n",
       "    }\n",
       "\n",
       "    .dataframe tbody tr th {\n",
       "        vertical-align: top;\n",
       "    }\n",
       "\n",
       "    .dataframe thead th {\n",
       "        text-align: right;\n",
       "    }\n",
       "</style>\n",
       "<table border=\"1\" class=\"dataframe\">\n",
       "  <thead>\n",
       "    <tr style=\"text-align: right;\">\n",
       "      <th></th>\n",
       "      <th>new_tweet</th>\n",
       "    </tr>\n",
       "  </thead>\n",
       "  <tbody>\n",
       "    <tr>\n",
       "      <th>0</th>\n",
       "      <td>RT : First and foremost,  dropped this gem - '...</td>\n",
       "    </tr>\n",
       "    <tr>\n",
       "      <th>1</th>\n",
       "      <td>RT : Finally got around to listening to this i...</td>\n",
       "    </tr>\n",
       "  </tbody>\n",
       "</table>\n",
       "</div>"
      ],
      "text/plain": [
       "                                           new_tweet\n",
       "0  RT : First and foremost,  dropped this gem - '...\n",
       "1  RT : Finally got around to listening to this i..."
      ]
     },
     "execution_count": 9,
     "metadata": {},
     "output_type": "execute_result"
    }
   ],
   "source": [
    "df[['new_tweet']].head(2)"
   ]
  },
  {
   "cell_type": "code",
   "execution_count": 10,
   "id": "e4e7b089-2ce3-428e-bf10-baa89de56795",
   "metadata": {},
   "outputs": [],
   "source": [
    "# remove all URLs\n",
    "#https://stackoverflow.com/questions/11331982/how-to-remove-any-url-within-a-string-in-python\n",
    "\n",
    "no_urls = []\n",
    "\n",
    "for ind in range(0, df['new_tweet'].shape[0]):\n",
    "    no_urls.append(re.sub(r'http\\S+', '', df['new_tweet'][ind]))\n",
    "\n",
    "df['no_urls'] = no_urls"
   ]
  },
  {
   "cell_type": "code",
   "execution_count": 22,
   "id": "74d1a4d5-8cb9-4223-8373-380b859e6737",
   "metadata": {},
   "outputs": [
    {
     "data": {
      "text/html": [
       "<div>\n",
       "<style scoped>\n",
       "    .dataframe tbody tr th:only-of-type {\n",
       "        vertical-align: middle;\n",
       "    }\n",
       "\n",
       "    .dataframe tbody tr th {\n",
       "        vertical-align: top;\n",
       "    }\n",
       "\n",
       "    .dataframe thead th {\n",
       "        text-align: right;\n",
       "    }\n",
       "</style>\n",
       "<table border=\"1\" class=\"dataframe\">\n",
       "  <thead>\n",
       "    <tr style=\"text-align: right;\">\n",
       "      <th></th>\n",
       "      <th>no_urls</th>\n",
       "      <th>new_tweet</th>\n",
       "    </tr>\n",
       "  </thead>\n",
       "  <tbody>\n",
       "    <tr>\n",
       "      <th>4017</th>\n",
       "      <td>First day of December in Miami isn’t too bad ;)</td>\n",
       "      <td>First day of December in Miami isn’t too bad ;...</td>\n",
       "    </tr>\n",
       "    <tr>\n",
       "      <th>4018</th>\n",
       "      <td>Great dinner in Miami tonight!        and   an...</td>\n",
       "      <td>Great dinner in Miami tonight!        and   an...</td>\n",
       "    </tr>\n",
       "    <tr>\n",
       "      <th>4019</th>\n",
       "      <td>RT : I asked  to let me on to his podcast beca...</td>\n",
       "      <td>RT : I asked  to let me on to his podcast beca...</td>\n",
       "    </tr>\n",
       "    <tr>\n",
       "      <th>4020</th>\n",
       "      <td>check your email!</td>\n",
       "      <td>check your email!</td>\n",
       "    </tr>\n",
       "    <tr>\n",
       "      <th>4021</th>\n",
       "      <td></td>\n",
       "      <td>https://t.co/Uif4dzkjXR</td>\n",
       "    </tr>\n",
       "    <tr>\n",
       "      <th>4022</th>\n",
       "      <td></td>\n",
       "      <td></td>\n",
       "    </tr>\n",
       "  </tbody>\n",
       "</table>\n",
       "</div>"
      ],
      "text/plain": [
       "                                                no_urls  \\\n",
       "4017   First day of December in Miami isn’t too bad ;)    \n",
       "4018  Great dinner in Miami tonight!        and   an...   \n",
       "4019  RT : I asked  to let me on to his podcast beca...   \n",
       "4020                                  check your email!   \n",
       "4021                                                      \n",
       "4022                                                      \n",
       "\n",
       "                                              new_tweet  \n",
       "4017  First day of December in Miami isn’t too bad ;...  \n",
       "4018  Great dinner in Miami tonight!        and   an...  \n",
       "4019  RT : I asked  to let me on to his podcast beca...  \n",
       "4020                                  check your email!  \n",
       "4021                            https://t.co/Uif4dzkjXR  \n",
       "4022                                                     "
      ]
     },
     "execution_count": 22,
     "metadata": {},
     "output_type": "execute_result"
    }
   ],
   "source": [
    "#verify that URLs were removed\n",
    "df[['no_urls','new_tweet']].tail(6)"
   ]
  },
  {
   "cell_type": "code",
   "execution_count": 13,
   "id": "6cdf5845-4bf3-4abf-b280-5f9e872698a9",
   "metadata": {},
   "outputs": [],
   "source": [
    "# save whether a tweet is a retweet or not\n",
    "df['retweet'] = np.where(df.no_urls.str.contains(\"RT :\"), 1, 0)"
   ]
  },
  {
   "cell_type": "code",
   "execution_count": 18,
   "id": "4244c868-3e66-4097-9ea2-0e88eda5c82e",
   "metadata": {},
   "outputs": [
    {
     "data": {
      "text/html": [
       "<div>\n",
       "<style scoped>\n",
       "    .dataframe tbody tr th:only-of-type {\n",
       "        vertical-align: middle;\n",
       "    }\n",
       "\n",
       "    .dataframe tbody tr th {\n",
       "        vertical-align: top;\n",
       "    }\n",
       "\n",
       "    .dataframe thead th {\n",
       "        text-align: right;\n",
       "    }\n",
       "</style>\n",
       "<table border=\"1\" class=\"dataframe\">\n",
       "  <thead>\n",
       "    <tr style=\"text-align: right;\">\n",
       "      <th></th>\n",
       "      <th>no_urls</th>\n",
       "      <th>retweet</th>\n",
       "    </tr>\n",
       "  </thead>\n",
       "  <tbody>\n",
       "    <tr>\n",
       "      <th>0</th>\n",
       "      <td>RT : First and foremost,  dropped this gem - '...</td>\n",
       "      <td>1</td>\n",
       "    </tr>\n",
       "    <tr>\n",
       "      <th>1</th>\n",
       "      <td>RT : Finally got around to listening to this i...</td>\n",
       "      <td>1</td>\n",
       "    </tr>\n",
       "    <tr>\n",
       "      <th>2</th>\n",
       "      <td>RT : After thousands of private requests we ar...</td>\n",
       "      <td>1</td>\n",
       "    </tr>\n",
       "    <tr>\n",
       "      <th>3</th>\n",
       "      <td>RT : 1/ NEW\\n\\nLux Q1 2022 Letter to LPs \\n\\n“...</td>\n",
       "      <td>1</td>\n",
       "    </tr>\n",
       "    <tr>\n",
       "      <th>4</th>\n",
       "      <td>Not bad! The inverse\\n\\nEDGES give WEDGES\\n\\ni...</td>\n",
       "      <td>0</td>\n",
       "    </tr>\n",
       "  </tbody>\n",
       "</table>\n",
       "</div>"
      ],
      "text/plain": [
       "                                             no_urls  retweet\n",
       "0  RT : First and foremost,  dropped this gem - '...        1\n",
       "1  RT : Finally got around to listening to this i...        1\n",
       "2  RT : After thousands of private requests we ar...        1\n",
       "3  RT : 1/ NEW\\n\\nLux Q1 2022 Letter to LPs \\n\\n“...        1\n",
       "4  Not bad! The inverse\\n\\nEDGES give WEDGES\\n\\ni...        0"
      ]
     },
     "execution_count": 18,
     "metadata": {},
     "output_type": "execute_result"
    }
   ],
   "source": [
    "df[['no_urls','retweet']].head()"
   ]
  },
  {
   "cell_type": "code",
   "execution_count": 16,
   "id": "6f1e40fa-ea22-4c3e-b54b-6ad311e1834c",
   "metadata": {},
   "outputs": [],
   "source": [
    "#save anonymized tweets with no URLs\n",
    "#df[['no_urls','retweet']].to_csv('./data/anon_tweets.csv', index=0)"
   ]
  },
  {
   "cell_type": "code",
   "execution_count": 17,
   "id": "a690180c-e4b6-4c6d-ab19-7abaff4b5a63",
   "metadata": {},
   "outputs": [
    {
     "data": {
      "text/plain": [
       "0    0.742232\n",
       "1    0.257768\n",
       "Name: retweet, dtype: float64"
      ]
     },
     "execution_count": 17,
     "metadata": {},
     "output_type": "execute_result"
    }
   ],
   "source": [
    "df['retweet'].value_counts(normalize=True)"
   ]
  },
  {
   "cell_type": "markdown",
   "id": "6d4d69d0-445b-4a25-a657-9acbbf71fe8e",
   "metadata": {},
   "source": [
    "The sample of ~4,000 tweets is split about 75/25 into original tweets and retweets. "
   ]
  }
 ],
 "metadata": {
  "kernelspec": {
   "display_name": "Python 3 (ipykernel)",
   "language": "python",
   "name": "python3"
  },
  "language_info": {
   "codemirror_mode": {
    "name": "ipython",
    "version": 3
   },
   "file_extension": ".py",
   "mimetype": "text/x-python",
   "name": "python",
   "nbconvert_exporter": "python",
   "pygments_lexer": "ipython3",
   "version": "3.9.12"
  }
 },
 "nbformat": 4,
 "nbformat_minor": 5
}
